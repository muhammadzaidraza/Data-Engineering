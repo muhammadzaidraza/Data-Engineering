{
 "cells": [
  {
   "cell_type": "code",
   "execution_count": 2,
   "id": "8bc667dc-f6aa-4be9-8430-9b1d276d168e",
   "metadata": {},
   "outputs": [
    {
     "name": "stdout",
     "output_type": "stream",
     "text": [
      "Hello World\n"
     ]
    }
   ],
   "source": [
    "print(\"Hello World\")"
   ]
  },
  {
   "cell_type": "code",
   "execution_count": 3,
   "id": "9b5c98e1-5531-40a8-8b14-cf87db015380",
   "metadata": {},
   "outputs": [],
   "source": [
    "age = 25;"
   ]
  },
  {
   "cell_type": "code",
   "execution_count": 4,
   "id": "dccf894e-e7ed-4770-b60b-6e41b41c094e",
   "metadata": {},
   "outputs": [
    {
     "name": "stdout",
     "output_type": "stream",
     "text": [
      "25\n"
     ]
    }
   ],
   "source": [
    "print(age)"
   ]
  },
  {
   "cell_type": "code",
   "execution_count": 4,
   "id": "4b424951-dd9b-45c9-a7f5-53bf672b395d",
   "metadata": {},
   "outputs": [
    {
     "name": "stdout",
     "output_type": "stream",
     "text": [
      "<class 'int'>\n"
     ]
    }
   ],
   "source": [
    "print(type(age))"
   ]
  },
  {
   "cell_type": "code",
   "execution_count": 5,
   "id": "934c0918-0bdd-4b1e-be62-c460b0c7bb6a",
   "metadata": {},
   "outputs": [
    {
     "name": "stdout",
     "output_type": "stream",
     "text": [
      "132265992733680\n"
     ]
    }
   ],
   "source": [
    "print(id(age))"
   ]
  },
  {
   "cell_type": "code",
   "execution_count": 5,
   "id": "f0661ac8-7da9-46d9-9c3f-dd63ffe48c2c",
   "metadata": {},
   "outputs": [
    {
     "name": "stdout",
     "output_type": "stream",
     "text": [
      "Zaid\n"
     ]
    }
   ],
   "source": [
    "print(\"Zaid\")"
   ]
  },
  {
   "cell_type": "code",
   "execution_count": null,
   "id": "09ae7644",
   "metadata": {},
   "outputs": [],
   "source": []
  }
 ],
 "metadata": {
  "kernelspec": {
   "display_name": "Python 3 (ipykernel)",
   "language": "python",
   "name": "python3"
  },
  "language_info": {
   "codemirror_mode": {
    "name": "ipython",
    "version": 3
   },
   "file_extension": ".py",
   "mimetype": "text/x-python",
   "name": "python",
   "nbconvert_exporter": "python",
   "pygments_lexer": "ipython3",
   "version": "3.10.12"
  }
 },
 "nbformat": 4,
 "nbformat_minor": 5
}
